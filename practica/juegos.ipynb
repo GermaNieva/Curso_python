{
 "cells": [
  {
   "cell_type": "markdown",
   "id": "47c7f5b9",
   "metadata": {},
   "source": [
    "Nivel Básico (para practicar lógica y estructuras)\n",
    "\n",
    "Adivina el número 🎲\n",
    "\n",
    "La computadora piensa un número al azar y vos tenés que adivinarlo.\n",
    "\n",
    "Pistas: “más alto” o “más bajo”.\n",
    "\n",
    "Practicás: input, random, bucles while.\n"
   ]
  },
  {
   "cell_type": "code",
   "execution_count": 1,
   "id": "d1851701",
   "metadata": {},
   "outputs": [],
   "source": [
    "import random"
   ]
  },
  {
   "cell_type": "code",
   "execution_count": 6,
   "id": "3c77c87c",
   "metadata": {},
   "outputs": [],
   "source": [
    "def numeroaleatorio():\n",
    "    numero_random= random.randint(1,100)\n",
    "    intentos = 0\n",
    "    print(\"adivina un numero entre 1 - 100 \")\n",
    "    \n",
    "    while True:\n",
    "        entrada = input(\"ingresa tu intento\").strip()\n",
    "        if entrada.lower() == \"salir \":\n",
    "            print(f\"saliendo del juego\")\n",
    "        try: \n",
    "            intento= int(entrada)\n",
    "        except ValueError:\n",
    "            print(\"ingrese un numero valido\")\n",
    "            continue\n",
    "        \n",
    "        intentos+=1\n",
    "        \n",
    "        if intento < numero_random:\n",
    "            print(\"numero bajo, intenta de nuevo\")\n",
    "        elif intento > numero_random:\n",
    "            print(\"El numero que ingresaste es mayor\")\n",
    "        else:\n",
    "            print(f\"correcto el numero es {intento} lo lograste en {intentos} intentos\")\n",
    "            break\n",
    "            \n",
    "            \n",
    "    \n"
   ]
  },
  {
   "cell_type": "code",
   "execution_count": 8,
   "id": "25da9a64",
   "metadata": {},
   "outputs": [
    {
     "name": "stdout",
     "output_type": "stream",
     "text": [
      "adivina un numero entre 1 - 100 \n",
      "ingrese un numero valido\n",
      "ingrese un numero valido\n"
     ]
    },
    {
     "ename": "KeyboardInterrupt",
     "evalue": "Interrupted by user",
     "output_type": "error",
     "traceback": [
      "\u001b[1;31m---------------------------------------------------------------------------\u001b[0m",
      "\u001b[1;31mKeyboardInterrupt\u001b[0m                         Traceback (most recent call last)",
      "Cell \u001b[1;32mIn[8], line 1\u001b[0m\n\u001b[1;32m----> 1\u001b[0m \u001b[43mnumeroaleatorio\u001b[49m\u001b[43m(\u001b[49m\u001b[43m)\u001b[49m\n",
      "Cell \u001b[1;32mIn[6], line 7\u001b[0m, in \u001b[0;36mnumeroaleatorio\u001b[1;34m()\u001b[0m\n\u001b[0;32m      4\u001b[0m \u001b[38;5;28mprint\u001b[39m(\u001b[38;5;124m\"\u001b[39m\u001b[38;5;124madivina un numero entre 1 - 100 \u001b[39m\u001b[38;5;124m\"\u001b[39m)\n\u001b[0;32m      6\u001b[0m \u001b[38;5;28;01mwhile\u001b[39;00m \u001b[38;5;28;01mTrue\u001b[39;00m:\n\u001b[1;32m----> 7\u001b[0m     entrada \u001b[38;5;241m=\u001b[39m \u001b[38;5;28;43minput\u001b[39;49m\u001b[43m(\u001b[49m\u001b[38;5;124;43m\"\u001b[39;49m\u001b[38;5;124;43mingresa tu intento\u001b[39;49m\u001b[38;5;124;43m\"\u001b[39;49m\u001b[43m)\u001b[49m\u001b[38;5;241m.\u001b[39mstrip()\n\u001b[0;32m      8\u001b[0m     \u001b[38;5;28;01mif\u001b[39;00m entrada\u001b[38;5;241m.\u001b[39mlower() \u001b[38;5;241m==\u001b[39m \u001b[38;5;124m\"\u001b[39m\u001b[38;5;124msalir \u001b[39m\u001b[38;5;124m\"\u001b[39m:\n\u001b[0;32m      9\u001b[0m         \u001b[38;5;28mprint\u001b[39m(\u001b[38;5;124mf\u001b[39m\u001b[38;5;124m\"\u001b[39m\u001b[38;5;124msaliendo del juego\u001b[39m\u001b[38;5;124m\"\u001b[39m)\n",
      "File \u001b[1;32m~\\AppData\\Roaming\\Python\\Python311\\site-packages\\ipykernel\\kernelbase.py:1282\u001b[0m, in \u001b[0;36mKernel.raw_input\u001b[1;34m(self, prompt)\u001b[0m\n\u001b[0;32m   1280\u001b[0m     msg \u001b[38;5;241m=\u001b[39m \u001b[38;5;124m\"\u001b[39m\u001b[38;5;124mraw_input was called, but this frontend does not support input requests.\u001b[39m\u001b[38;5;124m\"\u001b[39m\n\u001b[0;32m   1281\u001b[0m     \u001b[38;5;28;01mraise\u001b[39;00m StdinNotImplementedError(msg)\n\u001b[1;32m-> 1282\u001b[0m \u001b[38;5;28;01mreturn\u001b[39;00m \u001b[38;5;28;43mself\u001b[39;49m\u001b[38;5;241;43m.\u001b[39;49m\u001b[43m_input_request\u001b[49m\u001b[43m(\u001b[49m\n\u001b[0;32m   1283\u001b[0m \u001b[43m    \u001b[49m\u001b[38;5;28;43mstr\u001b[39;49m\u001b[43m(\u001b[49m\u001b[43mprompt\u001b[49m\u001b[43m)\u001b[49m\u001b[43m,\u001b[49m\n\u001b[0;32m   1284\u001b[0m \u001b[43m    \u001b[49m\u001b[38;5;28;43mself\u001b[39;49m\u001b[38;5;241;43m.\u001b[39;49m\u001b[43m_parent_ident\u001b[49m\u001b[43m[\u001b[49m\u001b[38;5;124;43m\"\u001b[39;49m\u001b[38;5;124;43mshell\u001b[39;49m\u001b[38;5;124;43m\"\u001b[39;49m\u001b[43m]\u001b[49m\u001b[43m,\u001b[49m\n\u001b[0;32m   1285\u001b[0m \u001b[43m    \u001b[49m\u001b[38;5;28;43mself\u001b[39;49m\u001b[38;5;241;43m.\u001b[39;49m\u001b[43mget_parent\u001b[49m\u001b[43m(\u001b[49m\u001b[38;5;124;43m\"\u001b[39;49m\u001b[38;5;124;43mshell\u001b[39;49m\u001b[38;5;124;43m\"\u001b[39;49m\u001b[43m)\u001b[49m\u001b[43m,\u001b[49m\n\u001b[0;32m   1286\u001b[0m \u001b[43m    \u001b[49m\u001b[43mpassword\u001b[49m\u001b[38;5;241;43m=\u001b[39;49m\u001b[38;5;28;43;01mFalse\u001b[39;49;00m\u001b[43m,\u001b[49m\n\u001b[0;32m   1287\u001b[0m \u001b[43m\u001b[49m\u001b[43m)\u001b[49m\n",
      "File \u001b[1;32m~\\AppData\\Roaming\\Python\\Python311\\site-packages\\ipykernel\\kernelbase.py:1325\u001b[0m, in \u001b[0;36mKernel._input_request\u001b[1;34m(self, prompt, ident, parent, password)\u001b[0m\n\u001b[0;32m   1322\u001b[0m \u001b[38;5;28;01mexcept\u001b[39;00m \u001b[38;5;167;01mKeyboardInterrupt\u001b[39;00m:\n\u001b[0;32m   1323\u001b[0m     \u001b[38;5;66;03m# re-raise KeyboardInterrupt, to truncate traceback\u001b[39;00m\n\u001b[0;32m   1324\u001b[0m     msg \u001b[38;5;241m=\u001b[39m \u001b[38;5;124m\"\u001b[39m\u001b[38;5;124mInterrupted by user\u001b[39m\u001b[38;5;124m\"\u001b[39m\n\u001b[1;32m-> 1325\u001b[0m     \u001b[38;5;28;01mraise\u001b[39;00m \u001b[38;5;167;01mKeyboardInterrupt\u001b[39;00m(msg) \u001b[38;5;28;01mfrom\u001b[39;00m \u001b[38;5;28;01mNone\u001b[39;00m\n\u001b[0;32m   1326\u001b[0m \u001b[38;5;28;01mexcept\u001b[39;00m \u001b[38;5;167;01mException\u001b[39;00m:\n\u001b[0;32m   1327\u001b[0m     \u001b[38;5;28mself\u001b[39m\u001b[38;5;241m.\u001b[39mlog\u001b[38;5;241m.\u001b[39mwarning(\u001b[38;5;124m\"\u001b[39m\u001b[38;5;124mInvalid Message:\u001b[39m\u001b[38;5;124m\"\u001b[39m, exc_info\u001b[38;5;241m=\u001b[39m\u001b[38;5;28;01mTrue\u001b[39;00m)\n",
      "\u001b[1;31mKeyboardInterrupt\u001b[0m: Interrupted by user"
     ]
    }
   ],
   "source": [
    "numeroaleatorio()"
   ]
  },
  {
   "cell_type": "markdown",
   "id": "663c86dc",
   "metadata": {},
   "source": [
    "Piedra, papel o tijera ✂️📄🪨\n",
    "\n",
    "Jugás contra la computadora.\n",
    "\n",
    "Practicás: condicionales if/elif, listas."
   ]
  },
  {
   "cell_type": "code",
   "execution_count": 16,
   "id": "e473c5c4",
   "metadata": {},
   "outputs": [
    {
     "name": "stdout",
     "output_type": "stream",
     "text": [
      "juego de piedra, papel o tijera\n",
      "elegiste piedra y pc eligio papel\n",
      "Perdiste, gano la pc\n",
      "elegiste piedra y pc eligio piedra\n",
      "empate\n",
      "elegiste piedra y pc eligio papel\n",
      "Perdiste, gano la pc\n",
      "elegiste piedra y pc eligio tijera\n",
      "Ganaste\n",
      "elegiste piedra y pc eligio papel\n",
      "Perdiste, gano la pc\n",
      "partida finalizada\n",
      "perdiste 3 a 1\n"
     ]
    }
   ],
   "source": [
    "import random\n",
    "print(\"juego de piedra, papel o tijera\")\n",
    "opciones=[\"piedra\",\"papel\",\"tijera\"]\n",
    "puntos_pc=0\n",
    "puntos_jugador=0\n",
    "jugadas=3\n",
    "while puntos_pc<jugadas and puntos_jugador<jugadas:\n",
    "    entrada=input(\"ingrese la opcion: \")\n",
    "    opcion_pc= random.choice(opciones)\n",
    "    print(f\"elegiste {entrada} y pc eligio {opcion_pc}\")\n",
    "    if entrada == opcion_pc:\n",
    "        print(\"empate\")\n",
    "        continue\n",
    "    if entrada == \"papel\" and opcion_pc == \"piedra\" \\\n",
    "        or entrada== \"tijera\" and opcion_pc== \"papel\" \\\n",
    "        or entrada== \"piedra\" and opcion_pc== \"tijera\":\n",
    "        print(\"Ganaste\")\n",
    "        puntos_jugador+=1\n",
    "    else:\n",
    "        print(\"Perdiste, gano la pc\")\n",
    "        puntos_pc+=1\n",
    "else:\n",
    "    print(\"partida finalizada\")\n",
    "    if puntos_pc<puntos_jugador:\n",
    "        print(f\"ganaste {puntos_jugador} a {puntos_pc}\")\n",
    "    else:\n",
    "        print(f\"perdiste {puntos_pc} a {puntos_jugador}\")\n",
    "        \n",
    "         \n",
    "\n",
    "    \n",
    "    "
   ]
  }
 ],
 "metadata": {
  "kernelspec": {
   "display_name": "Python 3",
   "language": "python",
   "name": "python3"
  },
  "language_info": {
   "codemirror_mode": {
    "name": "ipython",
    "version": 3
   },
   "file_extension": ".py",
   "mimetype": "text/x-python",
   "name": "python",
   "nbconvert_exporter": "python",
   "pygments_lexer": "ipython3",
   "version": "3.11.0"
  }
 },
 "nbformat": 4,
 "nbformat_minor": 5
}
