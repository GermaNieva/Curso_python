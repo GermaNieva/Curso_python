{
 "cells": [
  {
   "cell_type": "markdown",
   "id": "47c7f5b9",
   "metadata": {},
   "source": [
    "Nivel Básico (para practicar lógica y estructuras)\n",
    "\n",
    "Adivina el número 🎲\n",
    "\n",
    "La computadora piensa un número al azar y vos tenés que adivinarlo.\n",
    "\n",
    "Pistas: “más alto” o “más bajo”.\n",
    "\n",
    "Practicás: input, random, bucles while.\n"
   ]
  },
  {
   "cell_type": "code",
   "execution_count": 1,
   "id": "d1851701",
   "metadata": {},
   "outputs": [],
   "source": [
    "import random"
   ]
  },
  {
   "cell_type": "code",
   "execution_count": 6,
   "id": "3c77c87c",
   "metadata": {},
   "outputs": [],
   "source": [
    "def numeroaleatorio():\n",
    "    numero_random= random.randint(1,100)\n",
    "    intentos = 0\n",
    "    print(\"adivina un numero entre 1 - 100 \")\n",
    "    \n",
    "    while True:\n",
    "        entrada = input(\"ingresa tu intento\").strip()\n",
    "        if entrada.lower() == \"salir \":\n",
    "            print(f\"saliendo del juego\")\n",
    "        try: \n",
    "            intento= int(entrada)\n",
    "        except ValueError:\n",
    "            print(\"ingrese un numero valido\")\n",
    "            continue\n",
    "        \n",
    "        intentos+=1\n",
    "        \n",
    "        if intento < numero_random:\n",
    "            print(\"numero bajo, intenta de nuevo\")\n",
    "        elif intento > numero_random:\n",
    "            print(\"El numero que ingresaste es mayor\")\n",
    "        else:\n",
    "            print(f\"correcto el numero es {intento} lo lograste en {intentos} intentos\")\n",
    "            break\n",
    "            \n",
    "            \n",
    "    \n"
   ]
  },
  {
   "cell_type": "code",
   "execution_count": 8,
   "id": "25da9a64",
   "metadata": {},
   "outputs": [
    {
     "name": "stdout",
     "output_type": "stream",
     "text": [
      "adivina un numero entre 1 - 100 \n",
      "ingrese un numero valido\n",
      "ingrese un numero valido\n"
     ]
    },
    {
     "ename": "KeyboardInterrupt",
     "evalue": "Interrupted by user",
     "output_type": "error",
     "traceback": [
      "\u001b[1;31m---------------------------------------------------------------------------\u001b[0m",
      "\u001b[1;31mKeyboardInterrupt\u001b[0m                         Traceback (most recent call last)",
      "Cell \u001b[1;32mIn[8], line 1\u001b[0m\n\u001b[1;32m----> 1\u001b[0m \u001b[43mnumeroaleatorio\u001b[49m\u001b[43m(\u001b[49m\u001b[43m)\u001b[49m\n",
      "Cell \u001b[1;32mIn[6], line 7\u001b[0m, in \u001b[0;36mnumeroaleatorio\u001b[1;34m()\u001b[0m\n\u001b[0;32m      4\u001b[0m \u001b[38;5;28mprint\u001b[39m(\u001b[38;5;124m\"\u001b[39m\u001b[38;5;124madivina un numero entre 1 - 100 \u001b[39m\u001b[38;5;124m\"\u001b[39m)\n\u001b[0;32m      6\u001b[0m \u001b[38;5;28;01mwhile\u001b[39;00m \u001b[38;5;28;01mTrue\u001b[39;00m:\n\u001b[1;32m----> 7\u001b[0m     entrada \u001b[38;5;241m=\u001b[39m \u001b[38;5;28;43minput\u001b[39;49m\u001b[43m(\u001b[49m\u001b[38;5;124;43m\"\u001b[39;49m\u001b[38;5;124;43mingresa tu intento\u001b[39;49m\u001b[38;5;124;43m\"\u001b[39;49m\u001b[43m)\u001b[49m\u001b[38;5;241m.\u001b[39mstrip()\n\u001b[0;32m      8\u001b[0m     \u001b[38;5;28;01mif\u001b[39;00m entrada\u001b[38;5;241m.\u001b[39mlower() \u001b[38;5;241m==\u001b[39m \u001b[38;5;124m\"\u001b[39m\u001b[38;5;124msalir \u001b[39m\u001b[38;5;124m\"\u001b[39m:\n\u001b[0;32m      9\u001b[0m         \u001b[38;5;28mprint\u001b[39m(\u001b[38;5;124mf\u001b[39m\u001b[38;5;124m\"\u001b[39m\u001b[38;5;124msaliendo del juego\u001b[39m\u001b[38;5;124m\"\u001b[39m)\n",
      "File \u001b[1;32m~\\AppData\\Roaming\\Python\\Python311\\site-packages\\ipykernel\\kernelbase.py:1282\u001b[0m, in \u001b[0;36mKernel.raw_input\u001b[1;34m(self, prompt)\u001b[0m\n\u001b[0;32m   1280\u001b[0m     msg \u001b[38;5;241m=\u001b[39m \u001b[38;5;124m\"\u001b[39m\u001b[38;5;124mraw_input was called, but this frontend does not support input requests.\u001b[39m\u001b[38;5;124m\"\u001b[39m\n\u001b[0;32m   1281\u001b[0m     \u001b[38;5;28;01mraise\u001b[39;00m StdinNotImplementedError(msg)\n\u001b[1;32m-> 1282\u001b[0m \u001b[38;5;28;01mreturn\u001b[39;00m \u001b[38;5;28;43mself\u001b[39;49m\u001b[38;5;241;43m.\u001b[39;49m\u001b[43m_input_request\u001b[49m\u001b[43m(\u001b[49m\n\u001b[0;32m   1283\u001b[0m \u001b[43m    \u001b[49m\u001b[38;5;28;43mstr\u001b[39;49m\u001b[43m(\u001b[49m\u001b[43mprompt\u001b[49m\u001b[43m)\u001b[49m\u001b[43m,\u001b[49m\n\u001b[0;32m   1284\u001b[0m \u001b[43m    \u001b[49m\u001b[38;5;28;43mself\u001b[39;49m\u001b[38;5;241;43m.\u001b[39;49m\u001b[43m_parent_ident\u001b[49m\u001b[43m[\u001b[49m\u001b[38;5;124;43m\"\u001b[39;49m\u001b[38;5;124;43mshell\u001b[39;49m\u001b[38;5;124;43m\"\u001b[39;49m\u001b[43m]\u001b[49m\u001b[43m,\u001b[49m\n\u001b[0;32m   1285\u001b[0m \u001b[43m    \u001b[49m\u001b[38;5;28;43mself\u001b[39;49m\u001b[38;5;241;43m.\u001b[39;49m\u001b[43mget_parent\u001b[49m\u001b[43m(\u001b[49m\u001b[38;5;124;43m\"\u001b[39;49m\u001b[38;5;124;43mshell\u001b[39;49m\u001b[38;5;124;43m\"\u001b[39;49m\u001b[43m)\u001b[49m\u001b[43m,\u001b[49m\n\u001b[0;32m   1286\u001b[0m \u001b[43m    \u001b[49m\u001b[43mpassword\u001b[49m\u001b[38;5;241;43m=\u001b[39;49m\u001b[38;5;28;43;01mFalse\u001b[39;49;00m\u001b[43m,\u001b[49m\n\u001b[0;32m   1287\u001b[0m \u001b[43m\u001b[49m\u001b[43m)\u001b[49m\n",
      "File \u001b[1;32m~\\AppData\\Roaming\\Python\\Python311\\site-packages\\ipykernel\\kernelbase.py:1325\u001b[0m, in \u001b[0;36mKernel._input_request\u001b[1;34m(self, prompt, ident, parent, password)\u001b[0m\n\u001b[0;32m   1322\u001b[0m \u001b[38;5;28;01mexcept\u001b[39;00m \u001b[38;5;167;01mKeyboardInterrupt\u001b[39;00m:\n\u001b[0;32m   1323\u001b[0m     \u001b[38;5;66;03m# re-raise KeyboardInterrupt, to truncate traceback\u001b[39;00m\n\u001b[0;32m   1324\u001b[0m     msg \u001b[38;5;241m=\u001b[39m \u001b[38;5;124m\"\u001b[39m\u001b[38;5;124mInterrupted by user\u001b[39m\u001b[38;5;124m\"\u001b[39m\n\u001b[1;32m-> 1325\u001b[0m     \u001b[38;5;28;01mraise\u001b[39;00m \u001b[38;5;167;01mKeyboardInterrupt\u001b[39;00m(msg) \u001b[38;5;28;01mfrom\u001b[39;00m \u001b[38;5;28;01mNone\u001b[39;00m\n\u001b[0;32m   1326\u001b[0m \u001b[38;5;28;01mexcept\u001b[39;00m \u001b[38;5;167;01mException\u001b[39;00m:\n\u001b[0;32m   1327\u001b[0m     \u001b[38;5;28mself\u001b[39m\u001b[38;5;241m.\u001b[39mlog\u001b[38;5;241m.\u001b[39mwarning(\u001b[38;5;124m\"\u001b[39m\u001b[38;5;124mInvalid Message:\u001b[39m\u001b[38;5;124m\"\u001b[39m, exc_info\u001b[38;5;241m=\u001b[39m\u001b[38;5;28;01mTrue\u001b[39;00m)\n",
      "\u001b[1;31mKeyboardInterrupt\u001b[0m: Interrupted by user"
     ]
    }
   ],
   "source": [
    "numeroaleatorio()"
   ]
  },
  {
   "cell_type": "markdown",
   "id": "663c86dc",
   "metadata": {},
   "source": [
    "Piedra, papel o tijera ✂️📄🪨\n",
    "\n",
    "Jugás contra la computadora.\n",
    "\n",
    "Practicás: condicionales if/elif, listas."
   ]
  },
  {
   "cell_type": "code",
   "execution_count": 16,
   "id": "e473c5c4",
   "metadata": {},
   "outputs": [
    {
     "name": "stdout",
     "output_type": "stream",
     "text": [
      "juego de piedra, papel o tijera\n",
      "elegiste piedra y pc eligio papel\n",
      "Perdiste, gano la pc\n",
      "elegiste piedra y pc eligio piedra\n",
      "empate\n",
      "elegiste piedra y pc eligio papel\n",
      "Perdiste, gano la pc\n",
      "elegiste piedra y pc eligio tijera\n",
      "Ganaste\n",
      "elegiste piedra y pc eligio papel\n",
      "Perdiste, gano la pc\n",
      "partida finalizada\n",
      "perdiste 3 a 1\n"
     ]
    }
   ],
   "source": [
    "import random\n",
    "print(\"juego de piedra, papel o tijera\")\n",
    "opciones=[\"piedra\",\"papel\",\"tijera\"]\n",
    "puntos_pc=0\n",
    "puntos_jugador=0\n",
    "jugadas=3\n",
    "while puntos_pc<jugadas and puntos_jugador<jugadas:\n",
    "    entrada=input(\"ingrese la opcion: \")\n",
    "    opcion_pc= random.choice(opciones)\n",
    "    print(f\"elegiste {entrada} y pc eligio {opcion_pc}\")\n",
    "    if entrada == opcion_pc:\n",
    "        print(\"empate\")\n",
    "        continue\n",
    "    if entrada == \"papel\" and opcion_pc == \"piedra\" \\\n",
    "        or entrada== \"tijera\" and opcion_pc== \"papel\" \\\n",
    "        or entrada== \"piedra\" and opcion_pc== \"tijera\":\n",
    "        print(\"Ganaste\")\n",
    "        puntos_jugador+=1\n",
    "    else:\n",
    "        print(\"Perdiste, gano la pc\")\n",
    "        puntos_pc+=1\n",
    "else:\n",
    "    print(\"partida finalizada\")\n",
    "    if puntos_pc<puntos_jugador:\n",
    "        print(f\"ganaste {puntos_jugador} a {puntos_pc}\")\n",
    "    else:\n",
    "        print(f\"perdiste {puntos_pc} a {puntos_jugador}\")\n",
    "        \n",
    "         \n",
    "\n",
    "    \n",
    "    "
   ]
  },
  {
   "cell_type": "markdown",
   "id": "86e047e4",
   "metadata": {},
   "source": [
    "El ahorcado (versión simple) 🪢\n",
    "\n",
    "Tenés que adivinar una palabra letra por letra antes de perder todos los intentos.\n",
    "\n",
    "Practicás: listas, for, manejo de strings."
   ]
  },
  {
   "cell_type": "code",
   "execution_count": 33,
   "id": "a0377f54",
   "metadata": {},
   "outputs": [],
   "source": [
    "import random\n",
    "def ahorcado():\n",
    "    palabras=[\"cocodrillo\",\"vaca\",\"caballo\",\"mono\",\"elefante\",\"perro\"]\n",
    "    palabra=random.choice(palabras)\n",
    "    primera_letra=palabra[0]\n",
    "    ultima_letra=palabra[-1]\n",
    "    intentos=0\n",
    "    print(f\"\"\"juego del ahorcado\n",
    "          adivina la palabra\n",
    "          la palabra comienza con la letra: {primera_letra} y termina con la letra {ultima_letra}\"\"\")\n",
    "    palabra_adivinada=\"\"\n",
    "    while intentos < len(palabra):\n",
    "        letra = input(\"ingrese letra por letra hasta completar la palabra:\")\n",
    "        for i in range(len(palabra)):\n",
    "            if letra==palabra[i]:\n",
    "                print(\"letra correcta, ingrese la siguiente letra\")\n",
    "                palabra_adivinada+=letra\n",
    "                continue\n",
    "            else:\n",
    "                print(\"letra incorrecta:\")\n",
    "                intentos+=1\n",
    "                break\n",
    "    else:\n",
    "        print(\"agotaste tus intentos\")\n",
    "    print(f\"la palabra es: {palabra_adivinada}\")\n",
    "                \n",
    "        \n",
    "    \n",
    "    \n",
    "    "
   ]
  },
  {
   "cell_type": "code",
   "execution_count": 34,
   "id": "d4ea5269",
   "metadata": {},
   "outputs": [
    {
     "name": "stdout",
     "output_type": "stream",
     "text": [
      "juego del ahorcado\n",
      "          adivina la palabra\n",
      "          la palabra comienza con la letra: m y termina con la letra o\n",
      "letra incorrecta:\n",
      "letra incorrecta:\n",
      "letra incorrecta:\n",
      "letra incorrecta:\n",
      "agotaste tus intentos\n",
      "la palabra es: \n"
     ]
    }
   ],
   "source": [
    "ahorcado()"
   ]
  },
  {
   "cell_type": "code",
   "execution_count": null,
   "id": "ef4c85c1",
   "metadata": {},
   "outputs": [],
   "source": [
    "import random\n",
    "\n",
    "def ahorcado():\n",
    "    palabras = [\"cocodrilo\", \"vaca\", \"caballo\", \"mono\", \"elefante\", \"perro\"]\n",
    "    palabra = random.choice(palabras)\n",
    "    primera, ultima = palabra[0], palabra[-1]\n",
    "    intentos = len(palabra)\n",
    "    letras_acertadas = {primera, ultima}\n",
    "\n",
    "    print(f\"Juego del ahorcado\\nAdivina la palabra.\\n\"\n",
    "          f\"Comienza con: {primera} y termina con: {ultima}\")\n",
    "\n",
    "    while intentos > 0:\n",
    "        progreso = ''.join(c if c in letras_acertadas else '_' for c in palabra)\n",
    "        print(\"Palabra:\", progreso)\n",
    "        if progreso == palabra:\n",
    "            print(\"¡Correcto! Adivinaste la palabra.\")\n",
    "            return\n",
    "\n",
    "        letra = input(\"Ingresa una letra: \").strip().lower()\n",
    "        if len(letra) != 1 or not letra.isalpha():\n",
    "            print(\"Ingresa solo una letra.\")\n",
    "            continue\n",
    "\n",
    "        if letra in palabra:\n",
    "            if letra in letras_acertadas:\n",
    "                print(\"Ya habías acertado esa letra.\")\n",
    "            else:\n",
    "                letras_acertadas.add(letra)\n",
    "                print(\"Letra correcta.\")\n",
    "        else:\n",
    "            intentos -= 1\n",
    "            print(f\"Letra incorrecta. Intentos restantes: {intentos}\")\n",
    "\n",
    "    print(f\"Agotaste los intentos. La palabra era: {palabra}\")\n"
   ]
  },
  {
   "cell_type": "code",
   "execution_count": 43,
   "id": "31452e92",
   "metadata": {},
   "outputs": [],
   "source": [
    "import random\n",
    "\n",
    "def ahorcado():\n",
    "    palabras = [\"cocodrilo\", \"vaca\", \"caballo\", \"mono\", \"elefante\", \"perro\"]\n",
    "    palabra = random.choice(palabras).lower()\n",
    "    primera_letra = palabra[0]\n",
    "    ultima_letra = palabra[-1]\n",
    "\n",
    "    posicion = 0                 # índice de la letra que toca adivinar\n",
    "    intentos = 0\n",
    "    max_intentos = len(palabra)  # como en tu idea original\n",
    "    progreso = [\"_\"] * len(palabra)\n",
    "\n",
    "    print(\"Juego del ahorcado\")\n",
    "    print(\"Adivina la palabra, letra por letra en orden.\")\n",
    "    print(f\"La palabra comienza con: {primera_letra} y termina con: {ultima_letra}\")\n",
    "    print(\"Progreso:\", \" \".join(progreso))\n",
    "\n",
    "    while intentos < max_intentos and posicion < len(palabra):\n",
    "        letra = input(\"Ingresa la siguiente letra: \").strip().lower()\n",
    "        if len(letra) != 1 or not letra.isalpha():\n",
    "            print(\"Ingresa solo una letra.\")\n",
    "            continue\n",
    "\n",
    "        if letra == palabra[posicion]:\n",
    "            progreso[posicion] = letra\n",
    "            posicion += 1\n",
    "            print(\"Letra correcta. Sigue con la siguiente.\")\n",
    "        else:\n",
    "            intentos += 1\n",
    "            print(f\"Letra incorrecta. Intentos restantes: {max_intentos - intentos}\")\n",
    "\n",
    "        print(\"Progreso:\", \" \".join(progreso))\n",
    "\n",
    "    if posicion == len(palabra):\n",
    "        print(\"¡Correcto! Adivinaste la palabra.\")\n",
    "    else:\n",
    "        print(\"Agotaste tus intentos.\")\n",
    "    print(f\"La palabra era: {palabra}\")\n"
   ]
  },
  {
   "cell_type": "code",
   "execution_count": 44,
   "id": "ed37a781",
   "metadata": {},
   "outputs": [
    {
     "name": "stdout",
     "output_type": "stream",
     "text": [
      "Juego del ahorcado\n",
      "Adivina la palabra, letra por letra en orden.\n",
      "La palabra comienza con: m y termina con: o\n",
      "Progreso: _ _ _ _\n",
      "Letra correcta. Sigue con la siguiente.\n",
      "Progreso: m _ _ _\n",
      "Letra correcta. Sigue con la siguiente.\n",
      "Progreso: m o _ _\n",
      "Letra correcta. Sigue con la siguiente.\n",
      "Progreso: m o n _\n",
      "Letra correcta. Sigue con la siguiente.\n",
      "Progreso: m o n o\n",
      "¡Correcto! Adivinaste la palabra.\n",
      "La palabra era: mono\n"
     ]
    }
   ],
   "source": [
    "ahorcado()"
   ]
  },
  {
   "cell_type": "markdown",
   "id": "0cc956fb",
   "metadata": {},
   "source": [
    "Nivel Intermedio (más lógica y manejo de datos)\n",
    "\n",
    "Juego de dados 🎲\n",
    "\n",
    "Dos jugadores tiran dados y gana el que sume más puntos en varias rondas.\n",
    "\n",
    "Practicás: funciones, random, acumuladores."
   ]
  },
  {
   "cell_type": "code",
   "execution_count": 62,
   "id": "fd1dc3ab",
   "metadata": {},
   "outputs": [],
   "source": [
    "import random\n",
    "def juego_de_dados():\n",
    "    print(\"Bienvenido al juego de dados\")\n",
    "    cantidad_jugadores=int(input(\"cuantas personas van a jugar?\"))\n",
    "    jugadores={}\n",
    "    for i in range (cantidad_jugadores):\n",
    "        nombre=input(\"ingrese el nombre del jugador\")\n",
    "        jugadores[nombre]=0\n",
    "    for jugador in jugadores:\n",
    "        print(f\"Turno de {jugador}\")\n",
    "        input(\"presiona enter para jugar\")\n",
    "        dado=random.randint(1,6)\n",
    "        print(f\"{jugador} saco un {dado}\")\n",
    "        jugadores[jugador] += dado\n",
    "        \n",
    "    print(\"Puntajes:\", jugadores)\n",
    "        \n",
    "        \n",
    "        \n",
    "        \n",
    "        \n",
    "        \n",
    "        \n",
    "    \n",
    "    "
   ]
  },
  {
   "cell_type": "code",
   "execution_count": 63,
   "id": "8983f19a",
   "metadata": {},
   "outputs": [
    {
     "name": "stdout",
     "output_type": "stream",
     "text": [
      "Bienvenido al juego de dados\n",
      "Turno de ger\n",
      "ger saco un 6\n",
      "Turno de ivi\n",
      "ivi saco un 4\n",
      "Puntajes: {'ger': 6, 'ivi': 4}\n"
     ]
    }
   ],
   "source": [
    "juego_de_dados()"
   ]
  },
  {
   "cell_type": "code",
   "execution_count": 70,
   "id": "9187aa72",
   "metadata": {},
   "outputs": [],
   "source": [
    "import random\n",
    "\n",
    "def juego_de_dados(rondas=3):\n",
    "    print(\"Bienvenido al juego de dados\")\n",
    "\n",
    "    # Validar cantidad de jugadores\n",
    "    while True:\n",
    "        try:\n",
    "            cantidad = int(input(\"¿Cuántas personas van a jugar? \"))\n",
    "            if cantidad < 1:\n",
    "                print(\"Debe jugar al menos 1 persona.\")\n",
    "                continue\n",
    "            break\n",
    "        except ValueError:\n",
    "            print(\"Ingresa un número válido.\")\n",
    "\n",
    "    # Registrar jugadores\n",
    "    jugadores = {}\n",
    "    for i in range(cantidad):\n",
    "        nombre = input(f\"Nombre del jugador {i+1}: \").strip() or f\"Jugador{i+1}\"\n",
    "        while nombre in jugadores:\n",
    "            nombre = input(\"Nombre repetido. Ingresa otro: \").strip() or f\"Jugador{i+1}\"\n",
    "        jugadores[nombre] = 0\n",
    "\n",
    "    # Rondas de juego\n",
    "    for r in range(1, rondas + 1):\n",
    "        print(f\"\\n— Ronda {r} —\")\n",
    "        for jugador in jugadores:\n",
    "            print(f\"Turno de {jugador}\")\n",
    "            input(\"Presiona Enter para tirar el dado...\")\n",
    "            dado = random.randint(1, 6)\n",
    "            print(f\"{jugador} sacó un {dado}\")\n",
    "            jugadores[jugador] += dado\n",
    "\n",
    "        # Puntajes parciales\n",
    "        print(\"Puntajes parciales:\")\n",
    "        for j, p in jugadores.items():\n",
    "            print(f\"- {j}: {p}\")\n",
    "\n",
    "    # Resultados finales\n",
    "    print(\"\\nPuntajes finales:\")\n",
    "    for j, p in jugadores.items():\n",
    "        print(f\"- {j}: {p}\")\n",
    "\n",
    "    max_p = max(jugadores.values())\n",
    "    ganadores = [j for j, p in jugadores.items() if p == max_p]\n",
    "    if len(ganadores) == 1:\n",
    "        print(f\"\\nGanador: {ganadores[0]} con {max_p} puntos\")\n",
    "    else:\n",
    "        print(f\"\\nEmpate entre: {', '.join(ganadores)} con {max_p} puntos\")\n"
   ]
  },
  {
   "cell_type": "code",
   "execution_count": 71,
   "id": "27c09419",
   "metadata": {},
   "outputs": [
    {
     "name": "stdout",
     "output_type": "stream",
     "text": [
      "Bienvenido al juego de dados\n",
      "\n",
      "— Ronda 1 —\n",
      "Turno de Jugador1\n",
      "Jugador1 sacó un 3\n",
      "Turno de Jugador2\n",
      "Jugador2 sacó un 3\n",
      "Puntajes parciales:\n",
      "- Jugador1: 3\n",
      "- Jugador2: 3\n",
      "\n",
      "— Ronda 2 —\n",
      "Turno de Jugador1\n",
      "Jugador1 sacó un 1\n",
      "Turno de Jugador2\n",
      "Jugador2 sacó un 4\n",
      "Puntajes parciales:\n",
      "- Jugador1: 4\n",
      "- Jugador2: 7\n",
      "\n",
      "Puntajes finales:\n",
      "- Jugador1: 4\n",
      "- Jugador2: 7\n",
      "\n",
      "Ganador: Jugador2 con 7 puntos\n"
     ]
    }
   ],
   "source": [
    "juego_de_dados(2)"
   ]
  }
 ],
 "metadata": {
  "kernelspec": {
   "display_name": "Python 3",
   "language": "python",
   "name": "python3"
  },
  "language_info": {
   "codemirror_mode": {
    "name": "ipython",
    "version": 3
   },
   "file_extension": ".py",
   "mimetype": "text/x-python",
   "name": "python",
   "nbconvert_exporter": "python",
   "pygments_lexer": "ipython3",
   "version": "3.11.0"
  }
 },
 "nbformat": 4,
 "nbformat_minor": 5
}
