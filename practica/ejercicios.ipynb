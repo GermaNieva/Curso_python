{
 "cells": [
  {
   "cell_type": "code",
   "execution_count": null,
   "id": "2db0960e",
   "metadata": {},
   "outputs": [],
   "source": [
    "#calcular el area de un circulo con un radio dado"
   ]
  },
  {
   "cell_type": "markdown",
   "id": "96e73f00",
   "metadata": {},
   "source": [
    "Bucles\n",
    "\n",
    "Muestra todos los números del 1 al 100.\n",
    "\n",
    "Calcula la suma de los primeros 50 números.\n",
    "\n",
    "Pide un número y muestra su tabla de multiplicar (hasta el 10)."
   ]
  },
  {
   "cell_type": "code",
   "execution_count": 6,
   "id": "d4532a89",
   "metadata": {},
   "outputs": [
    {
     "name": "stdout",
     "output_type": "stream",
     "text": [
      "[1, 2, 3, 4, 5, 6, 7, 8, 9, 10, 11, 12, 13, 14, 15, 16, 17, 18, 19, 20, 21, 22, 23, 24, 25, 26, 27, 28, 29, 30, 31, 32, 33, 34, 35, 36, 37, 38, 39, 40, 41, 42, 43, 44, 45, 46, 47, 48, 49, 50, 51, 52, 53, 54, 55, 56, 57, 58, 59, 60, 61, 62, 63, 64, 65, 66, 67, 68, 69, 70, 71, 72, 73, 74, 75, 76, 77, 78, 79, 80, 81, 82, 83, 84, 85, 86, 87, 88, 89, 90, 91, 92, 93, 94, 95, 96, 97, 98, 99, 100]\n",
      "5049\n"
     ]
    }
   ],
   "source": [
    "lista_numeros=[]\n",
    "suma_primeros_50 = 0\n",
    "for i in range(1,101):\n",
    "    lista_numeros.append(i)\n",
    "    if i >= 2:\n",
    "        suma_primeros_50+=i\n",
    "print(lista_numeros)\n",
    "print(suma_primeros_50)\n",
    "        "
   ]
  },
  {
   "cell_type": "code",
   "execution_count": 1,
   "id": "39af377d",
   "metadata": {},
   "outputs": [
    {
     "ename": "NameError",
     "evalue": "name 'suma_primeros_50' is not defined",
     "output_type": "error",
     "traceback": [
      "\u001b[1;31m---------------------------------------------------------------------------\u001b[0m",
      "\u001b[1;31mNameError\u001b[0m                                 Traceback (most recent call last)",
      "Cell \u001b[1;32mIn[1], line 1\u001b[0m\n\u001b[1;32m----> 1\u001b[0m \u001b[43msuma_primeros_50\u001b[49m\n",
      "\u001b[1;31mNameError\u001b[0m: name 'suma_primeros_50' is not defined"
     ]
    }
   ],
   "source": [
    "suma_primeros_50"
   ]
  },
  {
   "cell_type": "code",
   "execution_count": 16,
   "id": "0f09e332",
   "metadata": {},
   "outputs": [
    {
     "name": "stdout",
     "output_type": "stream",
     "text": [
      "[1, 2, 3, 4, 5, 6, 7, 8, 9, 10, 11, 12, 13, 14, 15, 16, 17, 18, 19, 20, 21, 22, 23, 24, 25, 26, 27, 28, 29, 30, 31, 32, 33, 34, 35, 36, 37, 38, 39, 40, 41, 42, 43, 44, 45, 46, 47, 48, 49, 50, 51, 52, 53, 54, 55, 56, 57, 58, 59, 60, 61, 62, 63, 64, 65, 66, 67, 68, 69, 70, 71, 72, 73, 74, 75, 76, 77, 78, 79, 80, 81, 82, 83, 84, 85, 86, 87, 88, 89, 90, 91, 92, 93, 94, 95, 96, 97, 98, 99, 100]\n",
      "1275\n",
      "1 x 8 = 8\n",
      "2 x 8 = 16\n",
      "3 x 8 = 24\n",
      "4 x 8 = 32\n",
      "5 x 8 = 40\n",
      "6 x 8 = 48\n",
      "7 x 8 = 56\n",
      "8 x 8 = 64\n",
      "9 x 8 = 72\n",
      "10 x 8 = 80\n"
     ]
    }
   ],
   "source": [
    "lista_numeros=[]\n",
    "suma_primeros_50 = 0\n",
    "for i in range(1,101):\n",
    "    lista_numeros.append(i)\n",
    "    if i <=50:\n",
    "        suma_primeros_50 = suma_primeros_50+i\n",
    "print(lista_numeros)\n",
    "print(suma_primeros_50)\n",
    "\n",
    "numero=int(input(\"ingrese un numero\"))\n",
    "for i in range(1,11):\n",
    "    resultado=numero*i\n",
    "    print(f\"\"\"{i} x {numero} = {resultado}\"\"\")\n"
   ]
  },
  {
   "cell_type": "markdown",
   "id": "0742d0bb",
   "metadata": {},
   "source": [
    "Listas y Diccionarios\n",
    "\n",
    "Guarda 5 nombres en una lista y muéstralos en orden alfabético.\n",
    "\n",
    "Crea una lista de números y muestra el mayor, el menor y el promedio.\n",
    "\n",
    "Crea un diccionario con productos (nombre y precio). Permite agregar y buscar productos."
   ]
  },
  {
   "cell_type": "code",
   "execution_count": 30,
   "id": "8b4bf580",
   "metadata": {},
   "outputs": [
    {
     "name": "stdout",
     "output_type": "stream",
     "text": [
      "['8', '10', '20', '4', '3']\n",
      "lista de nombres ordenada: \n",
      " ['10', '20', '3', '4', '8']\n"
     ]
    }
   ],
   "source": [
    "nombres=[]\n",
    "contador=0\n",
    "while contador < 5:\n",
    "    nombre=input(\"Ingrese un nombre\")\n",
    "    nombres.append(nombre)\n",
    "    contador+=1\n",
    "print(nombres)\n",
    "lista_ordenada= sorted(nombres)\n",
    "print(f\"lista de nombres ordenada: \\n {lista_ordenada}\")\n",
    "    \n",
    "    "
   ]
  },
  {
   "cell_type": "code",
   "execution_count": 38,
   "id": "4e9ee329",
   "metadata": {},
   "outputs": [],
   "source": [
    "import numpy as np"
   ]
  },
  {
   "cell_type": "code",
   "execution_count": null,
   "id": "ad7b4416",
   "metadata": {},
   "outputs": [
    {
     "name": "stdout",
     "output_type": "stream",
     "text": [
      "[7, 3, 5, 9, 1]\n",
      "9\n",
      "1\n",
      "5.0\n"
     ]
    }
   ],
   "source": [
    "lista_de_numeros=[]\n",
    "suma=0\n",
    "for i in range(5):\n",
    "    numeros=int(input(\"ingrese un numero\"))\n",
    "    lista_de_numeros.append(numeros)\n",
    "print(lista_de_numeros)\n",
    "print(max(lista_de_numeros))\n",
    "print(min(lista_de_numeros))\n",
    "print(np.mean(lista_de_numeros))\n",
    "    \n"
   ]
  },
  {
   "cell_type": "code",
   "execution_count": 65,
   "id": "4c73c6e4",
   "metadata": {},
   "outputs": [],
   "source": [
    "productos={}\n",
    "\n",
    "def agregar_producto():\n",
    "    nombre= input(\"ingrese nombre de producto: \")\n",
    "    precio= float(input(\"ingrese el precio: \"))\n",
    "    productos[nombre]=precio\n",
    "    \n",
    "def buscar_producto():\n",
    "    nombre_producto = input(\"ingrese el nombre del producto que desea buscar\")\n",
    "    if nombre_producto in productos:\n",
    "        print(f\"producto encontrado {nombre_producto}: {productos[nombre_producto]}\")\n",
    "    else: \n",
    "        print(\"producto no encontrado\")\n",
    "\n",
    "\n"
   ]
  },
  {
   "cell_type": "code",
   "execution_count": 59,
   "id": "d7480903",
   "metadata": {},
   "outputs": [],
   "source": [
    "agregar_producto()"
   ]
  },
  {
   "cell_type": "code",
   "execution_count": 60,
   "id": "6ccbb296",
   "metadata": {},
   "outputs": [
    {
     "name": "stdout",
     "output_type": "stream",
     "text": [
      "producto encontrado: carne: 50.0\n"
     ]
    }
   ],
   "source": [
    "buscar_producto()"
   ]
  },
  {
   "cell_type": "code",
   "execution_count": 69,
   "id": "318d445d",
   "metadata": {},
   "outputs": [
    {
     "name": "stdout",
     "output_type": "stream",
     "text": [
      "producto encontrado leche: 20.0\n"
     ]
    }
   ],
   "source": [
    "opcion=int(input(f\"1: Agregar producto \\n 2: Buscar producto\"))\n",
    "if opcion==1:\n",
    "    cantidad=(int(input(\"cuantos productos desea agregar\")))\n",
    "    for i in range(cantidad):\n",
    "        agregar_producto()\n",
    "elif opcion==2:\n",
    "    buscar_producto()"
   ]
  },
  {
   "cell_type": "markdown",
   "id": "34af0081",
   "metadata": {},
   "source": [
    "Funciones\n",
    "\n",
    "Crea una función que reciba un número y devuelva si es primo o no.\n",
    "\n",
    "Crea una función que calcule el factorial de un número.\n",
    "\n",
    "Crea una función que reciba una lista y devuelva otra lista sin elementos repetidos."
   ]
  },
  {
   "cell_type": "code",
   "execution_count": null,
   "id": "050e8268",
   "metadata": {},
   "outputs": [],
   "source": [
    "def primos():\n",
    "    numero= int(input(\"ingrese un numero: \"))\n",
    "    for i in range(2,numero):\n",
    "        if numero%i==0:\n",
    "            print(f\"{numero} no es primo\")\n",
    "        else:\n",
    "            print(f\"{numero} es primo\")\n",
    "            break\n",
    "    \n"
   ]
  },
  {
   "cell_type": "code",
   "execution_count": 81,
   "id": "60ab5fef",
   "metadata": {},
   "outputs": [
    {
     "name": "stdout",
     "output_type": "stream",
     "text": [
      "5 es primo\n",
      "5 es primo\n",
      "5 es primo\n"
     ]
    }
   ],
   "source": [
    "primos()\n"
   ]
  },
  {
   "cell_type": "code",
   "execution_count": null,
   "id": "e39e1078",
   "metadata": {},
   "outputs": [],
   "source": []
  }
 ],
 "metadata": {
  "kernelspec": {
   "display_name": "Python 3",
   "language": "python",
   "name": "python3"
  },
  "language_info": {
   "codemirror_mode": {
    "name": "ipython",
    "version": 3
   },
   "file_extension": ".py",
   "mimetype": "text/x-python",
   "name": "python",
   "nbconvert_exporter": "python",
   "pygments_lexer": "ipython3",
   "version": "3.11.0"
  }
 },
 "nbformat": 4,
 "nbformat_minor": 5
}
