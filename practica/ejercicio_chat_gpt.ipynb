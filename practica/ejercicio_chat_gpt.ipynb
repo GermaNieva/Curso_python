{
 "cells": [
  {
   "cell_type": "code",
   "execution_count": 1,
   "id": "0b634a3f",
   "metadata": {},
   "outputs": [],
   "source": [
    "tienda=[]"
   ]
  },
  {
   "cell_type": "code",
   "execution_count": 3,
   "id": "99715ad0",
   "metadata": {},
   "outputs": [],
   "source": [
    "def agregar_producto():\n",
    "    codigo = input(\"Ingrese el código del producto: \")\n",
    "    nombre = input(\"Ingrese el nombre del producto: \")\n",
    "    precio = float(input(\"Ingrese el precio del producto: \"))\n",
    "    stock = int(input(\"Ingrese la cantidad en stock: \"))\n",
    "    producto = {\"codigo\": codigo,\n",
    "                \"nombre\": nombre,\n",
    "                \"precio\": precio,\n",
    "                \"stock\": stock}\n",
    "    tienda.append(producto)\n",
    "    \n",
    "def listar_productos():\n",
    "        if not tienda:\n",
    "            print(\"No hay productos en la tienda.\")\n",
    "        else:\n",
    "            for producto in tienda:\n",
    "                print(f\"Código: {producto['codigo']}, Nombre: {producto['nombre']}, Precio: {producto['precio']}, Stock: {producto['stock']}\")\n",
    "                \n",
    "def buscar_producto():\n",
    "        busqueda = input(\"Ingrese el código o nombre del producto a buscar: \")\n",
    "        encontrado = False\n",
    "        for producto in tienda:\n",
    "            if producto['codigo'] == busqueda or producto['nombre'].lower() == busqueda.lower():\n",
    "                print(f\"Producto encontrado: {producto}\")\n",
    "                encontrado = True\n",
    "                break\n",
    "        if not encontrado:\n",
    "            print(\"Producto no encontrado.\")\n",
    "            "
   ]
  },
  {
   "cell_type": "code",
   "execution_count": 2,
   "id": "643f52d3",
   "metadata": {},
   "outputs": [
    {
     "ename": "SyntaxError",
     "evalue": "f-string: unmatched '[' (522313981.py, line 8)",
     "output_type": "error",
     "traceback": [
      "\u001b[1;36m  Cell \u001b[1;32mIn[2], line 8\u001b[1;36m\u001b[0m\n\u001b[1;33m    print(f\"Venta realizada, vendiste:{cantidad, producto[\"nombre\"]} por un total de {cantidad*producto[\"precio\"]}. Stock restante: {producto['stock']}\")\u001b[0m\n\u001b[1;37m                                                           ^\u001b[0m\n\u001b[1;31mSyntaxError\u001b[0m\u001b[1;31m:\u001b[0m f-string: unmatched '['\n"
     ]
    }
   ],
   "source": [
    "def vender_producto():\n",
    "        codigo = input(\"Ingrese el código del producto a vender: \")\n",
    "        cantidad = int(input(\"Ingrese la cantidad a vender: \"))\n",
    "        for producto in tienda:\n",
    "            if producto['codigo'] == codigo:\n",
    "                if producto['stock'] >= cantidad:\n",
    "                    producto['stock'] -= cantidad\n",
    "                    print(f\"Venta realizada, vendiste:{cantidad, producto[\"nombre\"]} por un total de {cantidad*producto[\"precio\"]}. Stock restante: {producto['stock']}\")\n",
    "                else:\n",
    "                    print(\"Stock insuficiente.\")\n",
    "                return\n",
    "        print(\"Producto no encontrado.\")"
   ]
  },
  {
   "cell_type": "code",
   "execution_count": 1,
   "id": "cf53c7b5",
   "metadata": {},
   "outputs": [
    {
     "name": "stdout",
     "output_type": "stream",
     "text": [
      "0\n",
      "1\n",
      "2\n",
      "3\n",
      "4\n",
      "5\n",
      "6\n",
      "7\n",
      "8\n",
      "9\n"
     ]
    }
   ],
   "source": [
    "n=0\n",
    "while n < 10 :\n",
    "    print (n)\n",
    "    n+=1\n"
   ]
  },
  {
   "cell_type": "code",
   "execution_count": 2,
   "id": "12f94d15",
   "metadata": {},
   "outputs": [
    {
     "name": "stdout",
     "output_type": "stream",
     "text": [
      "siga probando\n",
      "siga probando\n",
      "siga probando\n",
      "siga probando\n",
      "siga probando\n",
      "siga probando\n",
      "palabra encontrada\n"
     ]
    }
   ],
   "source": [
    "condicion=True\n",
    "while condicion:\n",
    "    palabra=input(\"ingrese una palabra\")\n",
    "    if palabra==\"hola\":\n",
    "        print(\"palabra encontrada\")\n",
    "        condicion=False\n",
    "    else:\n",
    "        print(\"siga probando\")"
   ]
  },
  {
   "cell_type": "code",
   "execution_count": null,
   "id": "8102858c",
   "metadata": {},
   "outputs": [
    {
     "name": "stdout",
     "output_type": "stream",
     "text": [
      "MiniMarket CLI iniciado.\n",
      "Bienvenido al MiniMarket CLI\n",
      "Seleccione una opción:\n",
      "1) Agregar producto\n",
      "2) Listar productos\n",
      "3) Buscar producto (código o nombre)\n",
      "4) Vender producto\n",
      "5) Reportes\n",
      "6) Actualizar precio/stock\n",
      "7) Eliminar producto\n",
      "8) Salir\n",
      "\n",
      "Opción 1: Agregar producto\n",
      "Bienvenido al MiniMarket CLI\n",
      "Seleccione una opción:\n",
      "1) Agregar producto\n",
      "2) Listar productos\n",
      "3) Buscar producto (código o nombre)\n",
      "4) Vender producto\n",
      "5) Reportes\n",
      "6) Actualizar precio/stock\n",
      "7) Eliminar producto\n",
      "8) Salir\n",
      "\n",
      "Opción 2: Listar productos\n",
      "Código: 001, Nombre: arroz, Precio: 10.0, Stock: 10\n",
      "Bienvenido al MiniMarket CLI\n",
      "Seleccione una opción:\n",
      "1) Agregar producto\n",
      "2) Listar productos\n",
      "3) Buscar producto (código o nombre)\n",
      "4) Vender producto\n",
      "5) Reportes\n",
      "6) Actualizar precio/stock\n",
      "7) Eliminar producto\n",
      "8) Salir\n",
      "\n"
     ]
    }
   ],
   "source": [
    "iniciar()"
   ]
  },
  {
   "cell_type": "code",
   "execution_count": 19,
   "id": "4281e074",
   "metadata": {},
   "outputs": [],
   "source": [
    "def guardar_notas():\n",
    "    notas = []\n",
    "\n",
    "    print(\"Ingresa las notas del alumno. Escribe 'fin' para terminar.\")\n",
    "    while True:\n",
    "        nombre_alumno = input(\"Nombre del alumno: \")\n",
    "        entrada = input(\"Nota: \")\n",
    "        nota = [float(entrada)]\n",
    "        alumno={\"nombre\": nombre_alumno, \"nota\": nota}\n",
    "        while True:\n",
    "            pregunta = input(\"Desea ingresar otra nota? si/no: \")\n",
    "            if pregunta.lower() == \"no\":\n",
    "                break\n",
    "            elif pregunta.lower() == \"si\":\n",
    "                nueva_nota= float(input(\"ingrese la siguiente nota\"))\n",
    "                alumno= alumno[\"nota\"].append(nueva_nota)\n",
    "                notas.append(alumno)\n",
    "        if entrada.lower() or nombre_alumno.lower() == \"fin\":\n",
    "            break\n",
    "    print(\"Notas ingresadas:\", notas)"
   ]
  },
  {
   "cell_type": "code",
   "execution_count": 20,
   "id": "a92e1525",
   "metadata": {},
   "outputs": [
    {
     "name": "stdout",
     "output_type": "stream",
     "text": [
      "Ingresa las notas del alumno. Escribe 'fin' para terminar.\n",
      "Notas ingresadas: []\n"
     ]
    }
   ],
   "source": [
    "guardar_notas()"
   ]
  },
  {
   "cell_type": "code",
   "execution_count": null,
   "id": "1f66bc7b",
   "metadata": {},
   "outputs": [],
   "source": [
    "print(\"Notas ingresadas:\", notas)"
   ]
  },
  {
   "cell_type": "code",
   "execution_count": null,
   "id": "5a1ebb39",
   "metadata": {},
   "outputs": [],
   "source": [
    "import os\n",
    "\n",
    "def capturar_alumnos():\n",
    "    alumnos = {}\n",
    "    print(\"Ingresa el nombre de cada alumno. Escribe 'fin' para terminar.\")\n",
    "    while True:\n",
    "        nombre = input(\"Alumno: \").strip()\n",
    "        if nombre.lower() == \"fin\":\n",
    "            break\n",
    "        if not nombre:\n",
    "            continue\n",
    "        notas = []\n",
    "        print(f\"Ingresa las notas de {nombre}. Escribe 'fin' para terminar.\")\n",
    "        while True:\n",
    "            entrada = input(\"Nota: \").strip()\n",
    "            if entrada.lower() == \"fin\":\n",
    "                break\n",
    "            try:\n",
    "                notas.append(float(entrada))\n",
    "            except ValueError:\n",
    "                print(\"Por favor ingresa un número válido.\")\n",
    "        alumnos[nombre] = notas\n",
    "    return alumnos\n",
    "\n",
    "def guardar_alumnos(ruta, alumnos):\n",
    "    with open(ruta, \"w\", encoding=\"utf-8\") as archivo:\n",
    "        for nombre, notas in alumnos.items():\n",
    "            linea = \",\".join([nombre] + [str(n) for n in notas])\n",
    "            archivo.write(linea + \"\\n\")\n",
    "\n",
    "def leer_alumnos(ruta):\n",
    "    alumnos = {}\n",
    "    with open(ruta, \"r\", encoding=\"utf-8\") as archivo:\n",
    "        for linea in archivo:\n",
    "            partes = linea.strip().split(\",\")\n",
    "            if not partes or partes[0] == \"\":\n",
    "                continue\n",
    "            nombre = partes[0]\n",
    "            notas = [float(n) for n in partes[1:] if n]\n",
    "            alumnos[nombre] = notas\n",
    "    return alumnos\n",
    "\n",
    "def calcular_promedios(alumnos):\n",
    "    promedios = {}\n",
    "    for nombre, notas in alumnos.items():\n",
    "        if notas:\n",
    "            promedios[nombre] = sum(notas) / len(notas)\n",
    "        else:\n",
    "            promedios[nombre] = 0\n",
    "    return promedios\n",
    "\n",
    "def main():\n",
    "    ruta_archivo = os.path.join(os.path.dirname(__file__), \"notas.txt\")\n",
    "    alumnos = capturar_alumnos()\n",
    "    guardar_alumnos(ruta_archivo, alumnos)\n",
    "    datos = leer_alumnos(ruta_archivo)\n",
    "    promedios = calcular_promedios(datos)\n",
    "    for nombre, promedio in promedios.items():\n",
    "        print(f\"Promedio de {nombre}: {promedio}\")\n",
    "\n",
    "if __name__ == \"__main__\":\n",
    "    main()\n"
   ]
  },
  {
   "cell_type": "markdown",
   "id": "de6b8ff9",
   "metadata": {},
   "source": [
    "Mini Calculadora\n",
    "\n",
    "Menú con opciones: sumar, restar, multiplicar, dividir.\n",
    "\n",
    "El usuario elige una operación e ingresa los números."
   ]
  },
  {
   "cell_type": "code",
   "execution_count": 28,
   "id": "b1c85c56",
   "metadata": {},
   "outputs": [],
   "source": [
    "def calculadora():\n",
    "    print(\"que operacion necesita usar?: suma, resta, multiplicacion, division\")\n",
    "    operacion=input(\"ingrese la opcion: \")\n",
    "    if operacion==\"suma\":\n",
    "        valor1=float(input(\"ingrese el primer valor: \"))\n",
    "        valor2=float(input(\"ingrese el segundo valor: \"))\n",
    "        resultado=valor1+valor2\n",
    "        print(f\"el resultado de la suma es: {resultado}\")\n",
    "    elif operacion==\"resta\":\n",
    "        valor1=float(input(\"ingrese el primer valor: \"))\n",
    "        valor2=float(input(\"ingrese el segundo valor: \"))\n",
    "        resultado=valor1-valor2\n",
    "        print(f\"el resultado de la resta es: {resultado}\")\n",
    "    elif operacion==\"multiplicacion\":\n",
    "        valor1=float(input(\"ingrese el primer valor: \"))\n",
    "        valor2=float(input(\"ingrese el segundo valor: \"))\n",
    "        resultado=valor1*valor2\n",
    "        print(f\"el resultado de la multiplicacion es: {resultado}\")\n",
    "    elif operacion==\"division\":\n",
    "        valor1=float(input(\"ingrese el primer valor: \"))\n",
    "        valor2=float(input(\"ingrese el segundo valor: \"))\n",
    "        resultado=valor1/valor2\n",
    "        print(f\"el resultado de la division es: {resultado}\")\n",
    "    \n",
    "                           "
   ]
  },
  {
   "cell_type": "markdown",
   "id": "da918586",
   "metadata": {},
   "source": [
    "Gestión de Tareas (To-Do List en consola)\n",
    "\n",
    "Permite: agregar tarea, marcar como hecha, eliminar tarea y mostrar tareas pendientes."
   ]
  },
  {
   "cell_type": "code",
   "execution_count": null,
   "id": "329bd8a1",
   "metadata": {},
   "outputs": [],
   "source": []
  }
 ],
 "metadata": {
  "kernelspec": {
   "display_name": "Python 3",
   "language": "python",
   "name": "python3"
  },
  "language_info": {
   "codemirror_mode": {
    "name": "ipython",
    "version": 3
   },
   "file_extension": ".py",
   "mimetype": "text/x-python",
   "name": "python",
   "nbconvert_exporter": "python",
   "pygments_lexer": "ipython3",
   "version": "3.11.0"
  }
 },
 "nbformat": 4,
 "nbformat_minor": 5
}
