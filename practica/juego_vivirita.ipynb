{
 "cells": [
  {
   "cell_type": "code",
   "execution_count": 1,
   "id": "5e5e9da8",
   "metadata": {},
   "outputs": [
    {
     "name": "stdout",
     "output_type": "stream",
     "text": [
      "Collecting pygame\n",
      "  Downloading pygame-2.6.1-cp311-cp311-win_amd64.whl (10.6 MB)\n",
      "     -------------------------------------- 10.6/10.6 MB 850.8 kB/s eta 0:00:00\n",
      "Installing collected packages: pygame\n",
      "Successfully installed pygame-2.6.1\n",
      "Note: you may need to restart the kernel to use updated packages.\n"
     ]
    },
    {
     "name": "stderr",
     "output_type": "stream",
     "text": [
      "\n",
      "[notice] A new release of pip available: 22.3 -> 25.2\n",
      "[notice] To update, run: python.exe -m pip install --upgrade pip\n"
     ]
    }
   ],
   "source": [
    "pip install pygame"
   ]
  },
  {
   "cell_type": "code",
   "execution_count": 2,
   "id": "792d3424",
   "metadata": {},
   "outputs": [
    {
     "name": "stdout",
     "output_type": "stream",
     "text": [
      "pygame 2.6.1 (SDL 2.28.4, Python 3.11.0)\n",
      "Hello from the pygame community. https://www.pygame.org/contribute.html\n"
     ]
    },
    {
     "ename": "SystemExit",
     "evalue": "",
     "output_type": "error",
     "traceback": [
      "An exception has occurred, use %tb to see the full traceback.\n",
      "\u001b[1;31mSystemExit\u001b[0m\n"
     ]
    },
    {
     "name": "stderr",
     "output_type": "stream",
     "text": [
      "C:\\Users\\germa\\AppData\\Roaming\\Python\\Python311\\site-packages\\IPython\\core\\interactiveshell.py:3585: UserWarning: To exit: use 'exit', 'quit', or Ctrl-D.\n",
      "  warn(\"To exit: use 'exit', 'quit', or Ctrl-D.\", stacklevel=1)\n"
     ]
    }
   ],
   "source": [
    "import pygame, random, sys\n",
    "\n",
    "# --- Configuración ---\n",
    "CELL_SIZE = 20\n",
    "GRID_CELLS = 30  # 30x30 -> ventana 600x600\n",
    "WIDTH = HEIGHT = CELL_SIZE * GRID_CELLS\n",
    "FPS = 12  # velocidad de la viborita\n",
    "\n",
    "# Colores\n",
    "BLACK = (0, 0, 0)\n",
    "DGRAY = (30, 30, 30)\n",
    "GREEN = (46, 204, 113)\n",
    "RED   = (231, 76, 60)\n",
    "WHITE = (236, 240, 241)\n",
    "\n",
    "# Direcciones\n",
    "UP    = (0, -1)\n",
    "DOWN  = (0, 1)\n",
    "LEFT  = (-1, 0)\n",
    "RIGHT = (1, 0)\n",
    "\n",
    "def random_empty_cell(snake):\n",
    "    \"\"\"Devuelve una celda libre (x, y) que no esté ocupada por la serpiente.\"\"\"\n",
    "    while True:\n",
    "        x = random.randrange(GRID_CELLS)\n",
    "        y = random.randrange(GRID_CELLS)\n",
    "        if (x, y) not in snake:\n",
    "            return (x, y)\n",
    "\n",
    "def draw_cell(surface, pos, color):\n",
    "    x, y = pos\n",
    "    rect = pygame.Rect(x * CELL_SIZE, y * CELL_SIZE, CELL_SIZE, CELL_SIZE)\n",
    "    pygame.draw.rect(surface, color, rect)\n",
    "\n",
    "def main():\n",
    "    pygame.init()\n",
    "    screen = pygame.display.set_mode((WIDTH, HEIGHT))\n",
    "    pygame.display.set_caption(\"Viborita (Snake) - Pygame\")\n",
    "    clock = pygame.time.Clock()\n",
    "    font = pygame.font.SysFont(None, 28)\n",
    "\n",
    "    # Estado inicial\n",
    "    snake = [(GRID_CELLS // 2, GRID_CELLS // 2)]\n",
    "    direction = RIGHT\n",
    "    food = random_empty_cell(snake)\n",
    "    score = 0\n",
    "    game_over = False\n",
    "\n",
    "    while True:\n",
    "        # --- Eventos ---\n",
    "        for event in pygame.event.get():\n",
    "            if event.type == pygame.QUIT:\n",
    "                pygame.quit(); sys.exit()\n",
    "            if event.type == pygame.KEYDOWN:\n",
    "                if event.key in (pygame.K_ESCAPE, pygame.K_q):\n",
    "                    pygame.quit(); sys.exit()\n",
    "                if game_over and event.key in (pygame.K_SPACE, pygame.K_RETURN):\n",
    "                    # Reiniciar\n",
    "                    snake[:] = [(GRID_CELLS // 2, GRID_CELLS // 2)]\n",
    "                    direction = RIGHT\n",
    "                    food = random_empty_cell(snake)\n",
    "                    score = 0\n",
    "                    game_over = False\n",
    "                # Cambiar dirección (evitar reversa instantánea)\n",
    "                if not game_over:\n",
    "                    if event.key in (pygame.K_UP, pygame.K_w) and direction != DOWN:\n",
    "                        direction = UP\n",
    "                    elif event.key in (pygame.K_DOWN, pygame.K_s) and direction != UP:\n",
    "                        direction = DOWN\n",
    "                    elif event.key in (pygame.K_LEFT, pygame.K_a) and direction != RIGHT:\n",
    "                        direction = LEFT\n",
    "                    elif event.key in (pygame.K_RIGHT, pygame.K_d) and direction != LEFT:\n",
    "                        direction = RIGHT\n",
    "\n",
    "        if not game_over:\n",
    "            # --- Actualización ---\n",
    "            head_x, head_y = snake[0]\n",
    "            dx, dy = direction\n",
    "            new_head = ((head_x + dx) % GRID_CELLS, (head_y + dy) % GRID_CELLS)  # con wrap\n",
    "\n",
    "            # Colisión con cuerpo\n",
    "            if new_head in snake:\n",
    "                game_over = True\n",
    "            else:\n",
    "                snake.insert(0, new_head)  # avanza\n",
    "\n",
    "                # Comer comida\n",
    "                if new_head == food:\n",
    "                    score += 1\n",
    "                    # nueva comida en celda libre\n",
    "                    food = random_empty_cell(snake)\n",
    "                else:\n",
    "                    snake.pop()  # no crece si no comió\n",
    "\n",
    "        # --- Render ---\n",
    "        screen.fill(BLACK)\n",
    "\n",
    "        # Grid suave (opcional)\n",
    "        for i in range(GRID_CELLS):\n",
    "            pygame.draw.line(screen, DGRAY, (i*CELL_SIZE, 0), (i*CELL_SIZE, HEIGHT))\n",
    "            pygame.draw.line(screen, DGRAY, (0, i*CELL_SIZE), (WIDTH, i*CELL_SIZE))\n",
    "\n",
    "        # Comida y serpiente\n",
    "        draw_cell(screen, food, RED)\n",
    "        for i, segment in enumerate(snake):\n",
    "            color = GREEN if i == 0 else (76, 214, 133)\n",
    "            draw_cell(screen, segment, color)\n",
    "\n",
    "        # Puntaje\n",
    "        txt = font.render(f\"Puntaje: {score}\", True, WHITE)\n",
    "        screen.blit(txt, (10, 8))\n",
    "\n",
    "        # Mensaje de Game Over\n",
    "        if game_over:\n",
    "            msg1 = font.render(\"GAME OVER\", True, WHITE)\n",
    "            msg2 = font.render(\"Enter/Espacio para reiniciar | Q/Esc para salir\", True, WHITE)\n",
    "            screen.blit(msg1, (WIDTH//2 - msg1.get_width()//2, HEIGHT//2 - 20))\n",
    "            screen.blit(msg2, (WIDTH//2 - msg2.get_width()//2, HEIGHT//2 + 12))\n",
    "\n",
    "        pygame.display.flip()\n",
    "        clock.tick(FPS)\n",
    "\n",
    "if __name__ == \"__main__\":\n",
    "    main()\n"
   ]
  },
  {
   "cell_type": "code",
   "execution_count": 3,
   "id": "ca2dd903",
   "metadata": {},
   "outputs": [
    {
     "ename": "SystemExit",
     "evalue": "",
     "output_type": "error",
     "traceback": [
      "An exception has occurred, use %tb to see the full traceback.\n",
      "\u001b[1;31mSystemExit\u001b[0m\n"
     ]
    }
   ],
   "source": [
    "if __name__ == \"__main__\":\n",
    "    main()"
   ]
  }
 ],
 "metadata": {
  "kernelspec": {
   "display_name": "Python 3",
   "language": "python",
   "name": "python3"
  },
  "language_info": {
   "codemirror_mode": {
    "name": "ipython",
    "version": 3
   },
   "file_extension": ".py",
   "mimetype": "text/x-python",
   "name": "python",
   "nbconvert_exporter": "python",
   "pygments_lexer": "ipython3",
   "version": "3.11.0"
  }
 },
 "nbformat": 4,
 "nbformat_minor": 5
}
