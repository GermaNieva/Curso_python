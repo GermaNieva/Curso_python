{
 "cells": [
  {
   "cell_type": "code",
   "execution_count": 2,
   "id": "1d1ddf47",
   "metadata": {},
   "outputs": [
    {
     "name": "stdout",
     "output_type": "stream",
     "text": [
      "Ana\n"
     ]
    }
   ],
   "source": [
    "nombre= \"Ana\"\n",
    "print(nombre)  "
   ]
  },
  {
   "cell_type": "code",
   "execution_count": 3,
   "id": "bad3fd04",
   "metadata": {},
   "outputs": [
    {
     "name": "stdout",
     "output_type": "stream",
     "text": [
      "Ana Gómez\n"
     ]
    }
   ],
   "source": [
    "apellido= \"Gómez\"\n",
    "\n",
    "print(nombre + \" \" + apellido)  #esto mostrará \"Ana Gómez\""
   ]
  }
 ],
 "metadata": {
  "kernelspec": {
   "display_name": "Python 3",
   "language": "python",
   "name": "python3"
  },
  "language_info": {
   "codemirror_mode": {
    "name": "ipython",
    "version": 3
   },
   "file_extension": ".py",
   "mimetype": "text/x-python",
   "name": "python",
   "nbconvert_exporter": "python",
   "pygments_lexer": "ipython3",
   "version": "3.11.0"
  }
 },
 "nbformat": 4,
 "nbformat_minor": 5
}
